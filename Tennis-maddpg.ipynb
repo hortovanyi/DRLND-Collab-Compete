{
 "cells": [
  {
   "cell_type": "markdown",
   "metadata": {},
   "source": [
    "# Collaboration and Competition\n",
    "\n",
    "---\n",
    "\n",
    "In this notebook, you will learn how to use the Unity ML-Agents environment for the third project of the [Deep Reinforcement Learning Nanodegree](https://www.udacity.com/course/deep-reinforcement-learning-nanodegree--nd893) program.\n",
    "\n",
    "### 1. Start the Environment\n",
    "\n",
    "We begin by importing the necessary packages.  If the code cell below returns an error, please revisit the project instructions to double-check that you have installed [Unity ML-Agents](https://github.com/Unity-Technologies/ml-agents/blob/master/docs/Installation.md) and [NumPy](http://www.numpy.org/)."
   ]
  },
  {
   "cell_type": "code",
   "execution_count": 1,
   "metadata": {},
   "outputs": [],
   "source": [
    "from unityagents import UnityEnvironment\n",
    "import numpy as np"
   ]
  },
  {
   "cell_type": "markdown",
   "metadata": {},
   "source": [
    "Next, we will start the environment!  **_Before running the code cell below_**, change the `file_name` parameter to match the location of the Unity environment that you downloaded.\n",
    "\n",
    "- **Mac**: `\"path/to/Tennis.app\"`\n",
    "- **Windows** (x86): `\"path/to/Tennis_Windows_x86/Tennis.exe\"`\n",
    "- **Windows** (x86_64): `\"path/to/Tennis_Windows_x86_64/Tennis.exe\"`\n",
    "- **Linux** (x86): `\"path/to/Tennis_Linux/Tennis.x86\"`\n",
    "- **Linux** (x86_64): `\"path/to/Tennis_Linux/Tennis.x86_64\"`\n",
    "- **Linux** (x86, headless): `\"path/to/Tennis_Linux_NoVis/Tennis.x86\"`\n",
    "- **Linux** (x86_64, headless): `\"path/to/Tennis_Linux_NoVis/Tennis.x86_64\"`\n",
    "\n",
    "For instance, if you are using a Mac, then you downloaded `Tennis.app`.  If this file is in the same folder as the notebook, then the line below should appear as follows:\n",
    "```\n",
    "env = UnityEnvironment(file_name=\"Tennis.app\")\n",
    "```"
   ]
  },
  {
   "cell_type": "code",
   "execution_count": 2,
   "metadata": {},
   "outputs": [
    {
     "name": "stderr",
     "output_type": "stream",
     "text": [
      "INFO:unityagents:\n",
      "'Academy' started successfully!\n",
      "Unity Academy name: Academy\n",
      "        Number of Brains: 1\n",
      "        Number of External Brains : 1\n",
      "        Lesson number : 0\n",
      "        Reset Parameters :\n",
      "\t\t\n",
      "Unity brain name: TennisBrain\n",
      "        Number of Visual Observations (per agent): 0\n",
      "        Vector Observation space type: continuous\n",
      "        Vector Observation space size (per agent): 8\n",
      "        Number of stacked Vector Observation: 3\n",
      "        Vector Action space type: continuous\n",
      "        Vector Action space size (per agent): 2\n",
      "        Vector Action descriptions: , \n"
     ]
    }
   ],
   "source": [
    "env = UnityEnvironment(file_name=\"../../Tennis_Linux_NoVis/Tennis.x86_64\")"
   ]
  },
  {
   "cell_type": "markdown",
   "metadata": {},
   "source": [
    "Environments contain **_brains_** which are responsible for deciding the actions of their associated agents. Here we check for the first brain available, and set it as the default brain we will be controlling from Python."
   ]
  },
  {
   "cell_type": "code",
   "execution_count": 3,
   "metadata": {},
   "outputs": [],
   "source": [
    "# get the default brain\n",
    "brain_name = env.brain_names[0]\n",
    "brain = env.brains[brain_name]"
   ]
  },
  {
   "cell_type": "markdown",
   "metadata": {},
   "source": [
    "### 2. Examine the State and Action Spaces\n",
    "\n",
    "In this environment, two agents control rackets to bounce a ball over a net. If an agent hits the ball over the net, it receives a reward of +0.1.  If an agent lets a ball hit the ground or hits the ball out of bounds, it receives a reward of -0.01.  Thus, the goal of each agent is to keep the ball in play.\n",
    "\n",
    "The observation space consists of 8 variables corresponding to the position and velocity of the ball and racket. Two continuous actions are available, corresponding to movement toward (or away from) the net, and jumping. \n",
    "\n",
    "Run the code cell below to print some information about the environment."
   ]
  },
  {
   "cell_type": "code",
   "execution_count": 4,
   "metadata": {},
   "outputs": [
    {
     "name": "stdout",
     "output_type": "stream",
     "text": [
      "Number of agents: 2\n",
      "Size of each action: 2\n",
      "There are 2 agents. Each observes a state with length: 24\n",
      "The state for the first agent looks like: [ 0.          0.          0.          0.          0.          0.\n",
      "  0.          0.          0.          0.          0.          0.\n",
      "  0.          0.          0.          0.         -6.65278625 -1.5\n",
      " -0.          0.          6.83172083  6.         -0.          0.        ]\n",
      "The state for the second agent looks like: [ 0.          0.          0.          0.          0.          0.\n",
      "  0.          0.          0.          0.          0.          0.\n",
      "  0.          0.          0.          0.         -6.4669857  -1.5\n",
      "  0.          0.         -6.83172083  6.          0.          0.        ]\n"
     ]
    }
   ],
   "source": [
    "# reset the environment\n",
    "env_info = env.reset(train_mode=True)[brain_name]\n",
    "\n",
    "# number of agents \n",
    "num_agents = len(env_info.agents)\n",
    "print('Number of agents:', num_agents)\n",
    "\n",
    "# size of each action\n",
    "action_size = brain.vector_action_space_size\n",
    "print('Size of each action:', action_size)\n",
    "\n",
    "# examine the state space \n",
    "states = env_info.vector_observations\n",
    "state_size = states.shape[1]\n",
    "print('There are {} agents. Each observes a state with length: {}'.format(states.shape[0], state_size))\n",
    "print('The state for the first agent looks like:', states[0])\n",
    "print('The state for the second agent looks like:', states[1])"
   ]
  },
  {
   "cell_type": "markdown",
   "metadata": {},
   "source": [
    "### 3. Train the agent with ddpg"
   ]
  },
  {
   "cell_type": "code",
   "execution_count": 5,
   "metadata": {},
   "outputs": [],
   "source": [
    "from collections import deque\n",
    "import matplotlib.pyplot as plt\n",
    "from maddpg_agent import MultiAgent, Agent\n",
    "import torch\n",
    "\n",
    "%matplotlib inline"
   ]
  },
  {
   "cell_type": "code",
   "execution_count": 6,
   "metadata": {},
   "outputs": [
    {
     "name": "stdout",
     "output_type": "stream",
     "text": [
      "Initialising ReplayBuffer\n",
      "Episode 50\tAverage Score: 0.004\n",
      "Episode 100\tAverage Score: 0.006\n",
      "Episode 150\tAverage Score: 0.014\n",
      "Episode 200\tAverage Score: 0.027\n",
      "Episode 250\tAverage Score: 0.029\n",
      "Episode 300\tAverage Score: 0.018\n",
      "Episode 350\tAverage Score: 0.020\n",
      "Episode 400\tAverage Score: 0.040\n",
      "Episode 450\tAverage Score: 0.050\n",
      "Episode 500\tAverage Score: 0.046\n",
      "Episode 550\tAverage Score: 0.047\n",
      "Episode 600\tAverage Score: 0.048\n",
      "Episode 650\tAverage Score: 0.047\n",
      "Episode 700\tAverage Score: 0.048\n",
      "Episode 750\tAverage Score: 0.047\n",
      "Episode 800\tAverage Score: 0.048\n",
      "Episode 850\tAverage Score: 0.051\n",
      "Episode 900\tAverage Score: 0.048\n",
      "Episode 950\tAverage Score: 0.036\n",
      "Episode 1000\tAverage Score: 0.025\n",
      "Episode 1050\tAverage Score: 0.036\n",
      "Episode 1100\tAverage Score: 0.043\n",
      "Episode 1150\tAverage Score: 0.046\n",
      "Episode 1200\tAverage Score: 0.053\n",
      "Episode 1250\tAverage Score: 0.042\n",
      "Episode 1300\tAverage Score: 0.043\n",
      "Episode 1350\tAverage Score: 0.051\n",
      "Episode 1400\tAverage Score: 0.044\n",
      "Episode 1450\tAverage Score: 0.045\n",
      "Episode 1500\tAverage Score: 0.051\n",
      "Episode 1550\tAverage Score: 0.049\n",
      "Episode 1600\tAverage Score: 0.053\n",
      "Episode 1650\tAverage Score: 0.052\n",
      "Episode 1700\tAverage Score: 0.044\n",
      "Episode 1750\tAverage Score: 0.039\n",
      "Episode 1800\tAverage Score: 0.031\n",
      "Episode 1850\tAverage Score: 0.028\n",
      "Episode 1900\tAverage Score: 0.029\n",
      "Episode 1950\tAverage Score: 0.023\n",
      "Episode 2000\tAverage Score: 0.023\n",
      "Episode 2050\tAverage Score: 0.044\n",
      "Episode 2100\tAverage Score: 0.056\n",
      "Episode 2150\tAverage Score: 0.057\n",
      "Episode 2200\tAverage Score: 0.052\n",
      "Episode 2250\tAverage Score: 0.041\n",
      "Episode 2300\tAverage Score: 0.043\n",
      "Episode 2350\tAverage Score: 0.046\n",
      "Episode 2400\tAverage Score: 0.052\n",
      "Episode 2450\tAverage Score: 0.054\n",
      "Episode 2500\tAverage Score: 0.046\n",
      "Episode 2550\tAverage Score: 0.045\n",
      "Episode 2600\tAverage Score: 0.043\n",
      "Episode 2650\tAverage Score: 0.021\n",
      "Episode 2700\tAverage Score: 0.010\n",
      "Episode 2750\tAverage Score: 0.035\n",
      "Episode 2800\tAverage Score: 0.052\n",
      "Episode 2850\tAverage Score: 0.045\n",
      "Episode 2900\tAverage Score: 0.037\n",
      "Episode 2950\tAverage Score: 0.035\n",
      "Episode 3000\tAverage Score: 0.039\n",
      "Episode 3050\tAverage Score: 0.045\n",
      "Episode 3100\tAverage Score: 0.040\n",
      "Episode 3150\tAverage Score: 0.016\n",
      "Episode 3200\tAverage Score: 0.002\n",
      "Episode 3250\tAverage Score: 0.002\n",
      "Episode 3300\tAverage Score: 0.000\n",
      "Episode 3350\tAverage Score: 0.000\n",
      "Episode 3400\tAverage Score: 0.002\n",
      "Episode 3450\tAverage Score: 0.002\n",
      "Episode 3500\tAverage Score: 0.000\n"
     ]
    },
    {
     "data": {
      "image/png": "[encoded data removed]",
      "text/plain": [
       "<Figure size 432x288 with 1 Axes>"
      ]
     },
     "metadata": {
      "needs_background": "light"
     },
     "output_type": "display_data"
    }
   ],
   "source": [
    "def maddpg(n_episodes=3500, max_t=1000):\n",
    "    \"\"\" Deep Deterministic Policy Gradients\n",
    "    Params\n",
    "    ======\n",
    "        n_episodes (int): maximum number of training episodes\n",
    "        max_t (int): maximum number of timesteps per episode\n",
    "    \"\"\"\n",
    "    scores_window = deque(maxlen=100)\n",
    "    scores = np.zeros(num_agents)\n",
    "    scores_episode = []\n",
    "    \n",
    "    ma = MultiAgent(num_agents, state_size, action_size, random_seed=0) \n",
    "    \n",
    "    # amplitude of OU noise\n",
    "    # this slowly decreases to 0\n",
    "    noise = 2.0\n",
    "    noise_reduction = 0.9999\n",
    "    \n",
    "    for i_episode in range(1, n_episodes+1):\n",
    "        env_info = env.reset(train_mode=True)[brain_name]\n",
    "        states = env_info.vector_observations\n",
    "        \n",
    "        ma.reset()\n",
    "            \n",
    "        scores = np.zeros(num_agents)\n",
    "            \n",
    "        t = 0;    \n",
    "        while True:\n",
    "            #actions = [agents[i].act(states[i]) for i in range(num_agents)]\n",
    "            actions = np.array([ma.agents[i].act(states[i],noise) for i in range(num_agents)])\n",
    "            \n",
    "            noise *= noise_reduction\n",
    "#             if t == 0:\n",
    "#                 print(\"actions\", actions)\n",
    "            env_info = env.step(actions)[brain_name]        # send the action to the environment\n",
    "            next_states = env_info.vector_observations     # get the next state\n",
    "            rewards = env_info.rewards                     # get the reward\n",
    "            dones = env_info.local_done   \n",
    "            \n",
    "            ma.step(t,states, actions, rewards, next_states, dones) \n",
    " \n",
    "            states = next_states\n",
    "            scores += rewards\n",
    "            \n",
    "            print('\\rEpisode {}\\tTimestep {}\\tNoise {:.2f}\\tRewards {}\\tScores {}'\n",
    "                .format(i_episode, t, noise, np.array(rewards), scores), end=\"\") \n",
    "            if np.any(dones):\n",
    "                break \n",
    "            t += 1\n",
    "            \n",
    "        score = np.max(scores)\n",
    "        scores_window.append(score)       # save most recent score\n",
    "        scores_episode.append(score)\n",
    "\n",
    "        if i_episode % 50 == 0:\n",
    "            print('\\rEpisode {}\\tAverage Score: {:.3f}'.format(i_episode, np.mean(scores_window)))\n",
    "        if np.mean(scores_window)>=0.5:\n",
    "            print('\\nEnvironment solved in {:d} episodes!\\tAverage Score: {:.2f}'.format(i_episode-100, np.mean(scores_window)))\n",
    "            torch.save(ma.agent[0].actor_local.state_dict(), 'checkpoint2_actor1.pth')\n",
    "            torch.save(ma.agent[1].actor_local.state_dict(), 'checkpoint2_actor2.pth')\n",
    "            torch.save(ma.agent[0].critic_local.state_dict(), 'checkpoint2_critic1.pth')\n",
    "            torch.save(ma.agent[1].critic_local.state_dict(), 'checkpoint2_critic2.pth')\n",
    "            break\n",
    "            \n",
    "    return scores_episode\n",
    "\n",
    "# should be two agents for the Tennis environment\n",
    "assert num_agents == 2\n",
    "np.set_printoptions(formatter={'float': '{: 0.2f}'.format})\n",
    "    \n",
    "scores = maddpg()\n",
    "\n",
    "# plot the scores\n",
    "fig = plt.figure()\n",
    "ax = fig.add_subplot(111)\n",
    "plt.plot(np.arange(len(scores)), scores)\n",
    "plt.ylabel('Score')\n",
    "plt.xlabel('Episode #')\n",
    "plt.show()"
   ]
  },
  {
   "cell_type": "code",
   "execution_count": 7,
   "metadata": {},
   "outputs": [],
   "source": [
    "env.close()"
   ]
  }
 ],
 "metadata": {
  "kernelspec": {
   "display_name": "drlnd",
   "language": "python",
   "name": "drlnd"
  },
  "language_info": {
   "codemirror_mode": {
    "name": "ipython",
    "version": 3
   },
   "file_extension": ".py",
   "mimetype": "text/x-python",
   "name": "python",
   "nbconvert_exporter": "python",
   "pygments_lexer": "ipython3",
   "version": "3.6.6"
  }
 },
 "nbformat": 4,
 "nbformat_minor": 2
}
